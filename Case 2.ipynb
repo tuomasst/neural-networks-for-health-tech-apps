{
 "cells": [
  {
   "cell_type": "markdown",
   "metadata": {
    "toc": true
   },
   "source": [
    "<h1>Table of Contents<span class=\"tocSkip\"></span></h1>\n",
    "<div class=\"toc\"><ul class=\"toc-item\"><li><span><a href=\"#Case-X.-Template\" data-toc-modified-id=\"Case-X.-Template-1\"><span class=\"toc-item-num\">1&nbsp;&nbsp;</span>Case 2</a></span></li><li><span><a href=\"#Background\" data-toc-modified-id=\"Background-2\"><span class=\"toc-item-num\">2&nbsp;&nbsp;</span>Background</a></span></li><li><span><a href=\"#Data\" data-toc-modified-id=\"Data-3\"><span class=\"toc-item-num\">3&nbsp;&nbsp;</span>Data</a></span></li><li><span><a href=\"#Modes-and-training\" data-toc-modified-id=\"Modes-and-training-4\"><span class=\"toc-item-num\">4&nbsp;&nbsp;</span>Modes and training</a></span></li><li><span><a href=\"#Results-and-Discussion\" data-toc-modified-id=\"Results-and-Discussion-5\"><span class=\"toc-item-num\">5&nbsp;&nbsp;</span>Results and Discussion</a></span></li><li><span><a href=\"#Conclusions\" data-toc-modified-id=\"Conclusions-6\"><span class=\"toc-item-num\">6&nbsp;&nbsp;</span>Conclusions</a></span></li></ul></div>"
   ]
  },
  {
   "cell_type": "markdown",
   "metadata": {},
   "source": [
    "# Case 2\n",
    "Tuomas Tilli<br>\n",
    "Last edited: 04.03.2020<br>\n",
    "Neural Networks for Health Technology Applications<br>\n",
    "[Helsinki Metropolia University of Applied Sciences](http://www.metropolia.fi/en/)<br>"
   ]
  },
  {
   "cell_type": "markdown",
   "metadata": {},
   "source": [
    "# Background"
   ]
  },
  {
   "cell_type": "markdown",
   "metadata": {},
   "source": [
    "The aim of this Notebook is to train a convolutional neural network to to recognize characteristics of pneumonia from medical chest x-ray images. If successful, this kind of model could prove helpful in diagnosis of the disease. The dataset consisting of x-ray images is cited below:\n",
    "\n",
    "Kermany, Daniel; Zhang, Kang; Goldbaum, Michael (2018), “Labeled Optical Coherence Tomography (OCT) and Chest X-Ray Images for Classification”, Mendeley Data, v2\n",
    "http://dx.doi.org/10.17632/rscbjbr9sj.2"
   ]
  },
  {
   "cell_type": "code",
   "execution_count": 15,
   "metadata": {},
   "outputs": [
    {
     "name": "stdout",
     "output_type": "stream",
     "text": [
      "Populating the interactive namespace from numpy and matplotlib\n",
      "tf version =  2.1.0\n",
      "Found GPU at: /device:GPU:0\n"
     ]
    },
    {
     "name": "stderr",
     "output_type": "stream",
     "text": [
      "C:\\Users\\Tuomas\\Anaconda3\\lib\\site-packages\\IPython\\core\\magics\\pylab.py:160: UserWarning: pylab import has clobbered these variables: ['random']\n",
      "`%matplotlib` prevents importing * from pylab and numpy\n",
      "  \"\\n`%matplotlib` prevents importing * from pylab and numpy\"\n"
     ]
    }
   ],
   "source": [
    "# Imports\n",
    "\n",
    "%pylab inline\n",
    "import numpy as np\n",
    "import pandas as pd\n",
    "import random\n",
    "import os\n",
    "import shutil\n",
    "import time\n",
    "import tensorflow as tf\n",
    "#from tensorflow import keras\n",
    "from tensorflow.keras import layers, models, optimizers\n",
    "from tensorflow.keras.preprocessing.image import ImageDataGenerator\n",
    "from tensorflow.keras.metrics import Accuracy, FalseNegatives, FalsePositives, SensitivityAtSpecificity\n",
    "from sklearn.metrics import classification_report, confusion_matrix, roc_curve\n",
    "print('tf version = ', tf.__version__)\n",
    "\n",
    "device_name = tf.test.gpu_device_name()\n",
    "if \"GPU\" not in device_name:\n",
    "    print(\"GPU device not found\")\n",
    "print(\"Found GPU at: {}\".format(device_name))"
   ]
  },
  {
   "cell_type": "markdown",
   "metadata": {},
   "source": [
    "# Data"
   ]
  },
  {
   "cell_type": "markdown",
   "metadata": {},
   "source": [
    "The downloaded dataset contained separate training and testing sets in their own respective directories. The images of healthy and sick patients were split into separate directories.\n",
    "\n",
    "Data augmentation creates additional images by introducing various transformations to the original ones. Using the same ImageDataGenerator for training and validation samples can lead to problems due to the validation images also getting augmented. Hence there is a need for a separate validation set residing in a separate directory, which would be used by the validation data generator. The script below was used to split the original dataset for training (60%), validation (20%) and testing (20%)."
   ]
  },
  {
   "cell_type": "code",
   "execution_count": 16,
   "metadata": {},
   "outputs": [],
   "source": [
    "# Create base directory for the files\n",
    "\n",
    "original_dir = 'C:/Users/Tuomas/jupyter-notebooks/Case2/ChestXRay2017/chest_xray/'\n",
    "\n",
    "base_dir = 'C:/Users/Tuomas/jupyter-notebooks/Case_2/Case2_XRay'\n",
    "os.mkdir(base_dir)"
   ]
  },
  {
   "cell_type": "code",
   "execution_count": 17,
   "metadata": {},
   "outputs": [],
   "source": [
    "# Create subdirectories for training, validation and testing\n",
    "\n",
    "train_dir = os.path.join(base_dir, 'train')\n",
    "os.mkdir(train_dir)\n",
    "validation_dir = os.path.join(base_dir, 'validation')\n",
    "os.mkdir(validation_dir)\n",
    "test_dir = os.path.join(base_dir, 'test')\n",
    "os.mkdir(test_dir)"
   ]
  },
  {
   "cell_type": "code",
   "execution_count": 18,
   "metadata": {},
   "outputs": [],
   "source": [
    "# Create subdirectories for the two classes\n",
    "\n",
    "train_normal_dir = os.path.join(train_dir, 'NORMAL')\n",
    "os.mkdir(train_normal_dir)\n",
    "train_pneumonia_dir = os.path.join(train_dir, 'PNEUMONIA')\n",
    "os.mkdir(train_pneumonia_dir)\n",
    "validation_normal_dir = os.path.join(validation_dir, 'NORMAL')\n",
    "os.mkdir(validation_normal_dir)\n",
    "validation_pneumonia_dir = os.path.join(validation_dir, 'PNEUMONIA')\n",
    "os.mkdir(validation_pneumonia_dir)\n",
    "test_normal_dir = os.path.join(test_dir, 'NORMAL')\n",
    "os.mkdir(test_normal_dir)\n",
    "test_pneumonia_dir = os.path.join(test_dir, 'PNEUMONIA')\n",
    "os.mkdir(test_pneumonia_dir)"
   ]
  },
  {
   "cell_type": "code",
   "execution_count": 19,
   "metadata": {},
   "outputs": [
    {
     "name": "stdout",
     "output_type": "stream",
     "text": [
      "Train directory:\n",
      "1349 normal images\n",
      "3884 pneumonia images\n",
      "Test directory:\n",
      "234 normal images\n",
      "390 pneumonia images\n"
     ]
    }
   ],
   "source": [
    "# Create lists with training file names\n",
    "\n",
    "original_train_dir = os.path.join(original_dir,'train')\n",
    "original_test_dir = os.path.join(original_dir,'test')\n",
    "\n",
    "train_names_normal = os.listdir(os.path.join(original_train_dir,'NORMAL'))\n",
    "train_names_pneumonia = os.listdir(os.path.join(original_train_dir,'PNEUMONIA'))\n",
    "\n",
    "test_names_normal = os.listdir(os.path.join(original_test_dir,'NORMAL'))\n",
    "test_names_pneumonia = os.listdir(os.path.join(original_test_dir,'PNEUMONIA'))\n",
    "\n",
    "print('Train directory:')\n",
    "print(len(train_names_normal),'normal images')\n",
    "print(len(train_names_pneumonia),'pneumonia images') \n",
    "\n",
    "print('Test directory:')\n",
    "print(len(test_names_normal),'normal images')\n",
    "print(len(test_names_pneumonia),'pneumonia images') "
   ]
  },
  {
   "cell_type": "code",
   "execution_count": 20,
   "metadata": {},
   "outputs": [],
   "source": [
    "# Shuffle the lists in random order\n",
    "\n",
    "random.shuffle(train_names_normal)\n",
    "random.shuffle(train_names_pneumonia)\n",
    "random.shuffle(test_names_normal)\n",
    "random.shuffle(test_names_pneumonia)"
   ]
  },
  {
   "cell_type": "code",
   "execution_count": 21,
   "metadata": {},
   "outputs": [],
   "source": [
    "original_train_normal_dir = os.path.join(original_train_dir,'NORMAL')\n",
    "original_train_pneumonia_dir = os.path.join(original_train_dir,'PNEUMONIA')\n",
    "original_test_normal_dir = os.path.join(original_test_dir,'NORMAL')\n",
    "original_test_pneumonia_dir = os.path.join(original_test_dir,'PNEUMONIA')\n",
    "\n",
    "# Copy original training data of type normal to new directories in proper ratios\n",
    "\n",
    "for fname in train_names_normal[:809]:\n",
    "    src = os.path.join(original_train_normal_dir, fname)\n",
    "    dst = os.path.join(train_normal_dir, fname)\n",
    "    shutil.copyfile(src, dst)\n",
    "    \n",
    "for fname in train_names_normal[809:1079]:\n",
    "    src = os.path.join(original_train_normal_dir, fname)\n",
    "    dst = os.path.join(validation_normal_dir, fname)\n",
    "    shutil.copyfile(src, dst)\n",
    "    \n",
    "for fname in train_names_normal[1079:]:\n",
    "    src = os.path.join(original_train_normal_dir, fname)\n",
    "    dst = os.path.join(test_normal_dir, fname)\n",
    "    shutil.copyfile(src, dst)"
   ]
  },
  {
   "cell_type": "code",
   "execution_count": 22,
   "metadata": {},
   "outputs": [],
   "source": [
    "# Copy original training data of type pneumonia to new directories in proper ratios\n",
    "\n",
    "for fname in train_names_pneumonia[:2330]:\n",
    "    src = os.path.join(original_train_pneumonia_dir, fname)\n",
    "    dst = os.path.join(train_pneumonia_dir, fname)\n",
    "    shutil.copyfile(src, dst)\n",
    "    \n",
    "for fname in train_names_pneumonia[2330:3107]:\n",
    "    src = os.path.join(original_train_pneumonia_dir, fname)\n",
    "    dst = os.path.join(validation_pneumonia_dir, fname)\n",
    "    shutil.copyfile(src, dst)\n",
    "    \n",
    "for fname in train_names_pneumonia[3107:]:\n",
    "    src = os.path.join(original_train_pneumonia_dir, fname)\n",
    "    dst = os.path.join(test_pneumonia_dir, fname)\n",
    "    shutil.copyfile(src, dst)"
   ]
  },
  {
   "cell_type": "code",
   "execution_count": 23,
   "metadata": {},
   "outputs": [],
   "source": [
    "# Copy original test data of type normal to new directories in proper ratios\n",
    "\n",
    "for fname in test_names_normal[:140]:\n",
    "    src = os.path.join(original_test_normal_dir, fname)\n",
    "    dst = os.path.join(train_normal_dir, fname)\n",
    "    shutil.copyfile(src, dst)\n",
    "    \n",
    "for fname in test_names_normal[140:187]:\n",
    "    src = os.path.join(original_test_normal_dir, fname)\n",
    "    dst = os.path.join(validation_normal_dir, fname)\n",
    "    shutil.copyfile(src, dst)\n",
    "    \n",
    "for fname in test_names_normal[187:]:\n",
    "    src = os.path.join(original_test_normal_dir, fname)\n",
    "    dst = os.path.join(test_normal_dir, fname)\n",
    "    shutil.copyfile(src, dst)"
   ]
  },
  {
   "cell_type": "code",
   "execution_count": 24,
   "metadata": {},
   "outputs": [],
   "source": [
    "# Copy original test data of type pneumonia to new directories in proper ratios\n",
    "\n",
    "for fname in test_names_pneumonia[:234]:\n",
    "    src = os.path.join(original_test_pneumonia_dir, fname)\n",
    "    dst = os.path.join(train_pneumonia_dir, fname)\n",
    "    shutil.copyfile(src, dst)\n",
    "    \n",
    "for fname in test_names_pneumonia[234:312]:\n",
    "    src = os.path.join(original_test_pneumonia_dir, fname)\n",
    "    dst = os.path.join(validation_pneumonia_dir, fname)\n",
    "    shutil.copyfile(src, dst)\n",
    "    \n",
    "for fname in test_names_pneumonia[312:]:\n",
    "    src = os.path.join(original_test_pneumonia_dir, fname)\n",
    "    dst = os.path.join(test_pneumonia_dir, fname)\n",
    "    shutil.copyfile(src, dst)"
   ]
  },
  {
   "cell_type": "code",
   "execution_count": 25,
   "metadata": {},
   "outputs": [
    {
     "name": "stdout",
     "output_type": "stream",
     "text": [
      "Total normal training samples 949\n",
      "Total pneumonia training samples 2564\n",
      "Total normal validation samples 317\n",
      "Total pneumonia validation samples 855\n",
      "Total normal test samples 317\n",
      "Total pneumonia test samples 855\n"
     ]
    }
   ],
   "source": [
    "# Check the contents of the new directories\n",
    "\n",
    "print('Total normal training samples',len(os.listdir(train_normal_dir)))\n",
    "print('Total pneumonia training samples',len(os.listdir(train_pneumonia_dir)))\n",
    "\n",
    "print('Total normal validation samples',len(os.listdir(validation_normal_dir)))\n",
    "print('Total pneumonia validation samples',len(os.listdir(validation_pneumonia_dir)))\n",
    "\n",
    "print('Total normal test samples',len(os.listdir(test_normal_dir)))\n",
    "print('Total pneumonia test samples',len(os.listdir(test_pneumonia_dir)))"
   ]
  },
  {
   "cell_type": "code",
   "execution_count": 26,
   "metadata": {},
   "outputs": [
    {
     "name": "stdout",
     "output_type": "stream",
     "text": [
      "Training:\n",
      "Found 3512 images belonging to 2 classes.\n",
      "Validation:\n",
      "Found 1172 images belonging to 2 classes.\n",
      "Testing:\n",
      "Found 1172 images belonging to 2 classes.\n",
      "{'NORMAL': 0, 'PNEUMONIA': 1}\n"
     ]
    }
   ],
   "source": [
    "#train_dir = './Case2_XRay/train'\n",
    "#validation_dir =  './Case2_XRay/validation'\n",
    "#test_dir =  './Case2_XRay/test'\n",
    "\n",
    "TS = (150,150)  # Image Size\n",
    "BS = 16        # Batch Size\n",
    "\n",
    "# ImageDataGenerators for test, validation and train sets\n",
    "# Data augmentation was used for the training generator (rotation and vertical flip)\n",
    "# All models use the same image data from these generators\n",
    "\n",
    "print('Training:')\n",
    "tg = ImageDataGenerator(rescale=1./255, #zoom_range=0.3, \n",
    "                        rotation_range = 5, \n",
    "                        vertical_flip=True)\n",
    "train_generator = tg.flow_from_directory(\n",
    "    train_dir,\n",
    "    target_size = TS,\n",
    "    batch_size = BS,\n",
    "    class_mode = 'binary'\n",
    ")\n",
    "\n",
    "print('Validation:')\n",
    "devg = ImageDataGenerator(rescale=1./255)\n",
    "dev_generator = devg.flow_from_directory(\n",
    "    validation_dir,\n",
    "    target_size = TS,\n",
    "    batch_size = BS,\n",
    "    shuffle = False,\n",
    "    class_mode = 'binary'\n",
    ")\n",
    "\n",
    "print('Testing:')\n",
    "testg = ImageDataGenerator(rescale=1./255)\n",
    "test_generator = testg.flow_from_directory(\n",
    "    test_dir,\n",
    "    target_size = TS,\n",
    "    batch_size = BS,\n",
    "    shuffle = False,\n",
    "    class_mode = 'binary'\n",
    ")\n",
    "\n",
    "print(train_generator.class_indices)"
   ]
  },
  {
   "cell_type": "markdown",
   "metadata": {},
   "source": [
    "# Models and training"
   ]
  },
  {
   "cell_type": "markdown",
   "metadata": {},
   "source": [
    "Input shape for the CNN was an image of 150x150 pixels and a tensor depth of 3 (color channels). Pooling was introduced after the convolutional layers and was done with a 2x2 array. Chosen batch size was 16. Number of epochs was 12.\n",
    "\n",
    "A variable number of convolutional layers and filters (feature detectors) were experimented with. Three different structures for the dense classifier part of the network were also tried out. The amount of dense layers and amount of neurons in each layer were altered for each model. \n",
    "\n",
    "Rectifier activation function was used for the convolutional layers of every model tested. The output of the CNN was flattened for feeding into the fully connected classifier. Dense layers also used rectifier activation function and the final output layer of 1 neuron used a sigmoid activation function because there needs to be a binary outcome. The chosen loss function was binary_crossentropy and rmsprop was used as the optimizer.\n",
    "\n",
    "Plotting was used to evaluate model performance. SensitivityAtSpecificity was used as the primary metric with a specificity target value of 0.9.\n",
    "\n",
    "Training was done on a desktop computer so that a GPU could be taken advantage of.\n",
    "\n",
    "The model architectures can be seen in the code below:"
   ]
  },
  {
   "cell_type": "code",
   "execution_count": 27,
   "metadata": {},
   "outputs": [],
   "source": [
    "# Build the CNN models\n",
    "\n",
    "# Model 1\n",
    "\n",
    "with tf.device('/gpu:0'):\n",
    "    model = models.Sequential()\n",
    "    model.add(layers.Conv2D(32, (3, 3), activation = 'relu', input_shape = (150, 150, 3)))\n",
    "    model.add(layers.MaxPooling2D((2, 2)))\n",
    "    model.add(layers.Conv2D(32, (3, 3), activation = 'relu'))\n",
    "    model.add(layers.MaxPooling2D((2, 2)))\n",
    "    model.add(layers.Conv2D(32, (3, 3), activation = 'relu'))\n",
    "    model.add(layers.MaxPooling2D((2, 2)))\n",
    "    model.add(layers.Conv2D(32, (3, 3), activation = 'relu'))\n",
    "    model.add(layers.MaxPooling2D((2, 2)))\n",
    "    model.add(layers.Flatten())\n",
    "    model.add(layers.Dense(512, activation = 'relu'))\n",
    "    model.add(layers.Dense(1, activation = 'sigmoid'))\n",
    "    \n",
    "    model.compile(loss = 'binary_crossentropy', \n",
    "              optimizer = tf.keras.optimizers.RMSprop(lr = 1e-4),\n",
    "              metrics = [SensitivityAtSpecificity(0.9)])\n",
    "\n",
    "#model.summary()"
   ]
  },
  {
   "cell_type": "code",
   "execution_count": 33,
   "metadata": {},
   "outputs": [],
   "source": [
    "# Model 2\n",
    "\n",
    "with tf.device('/gpu:0'):\n",
    "    model2 = models.Sequential()\n",
    "    model2.add(layers.Conv2D(16, (3, 3), activation = 'relu', input_shape = (150, 150, 3)))\n",
    "    model2.add(layers.MaxPooling2D((2, 2)))\n",
    "    model2.add(layers.Conv2D(32, (3, 3), activation = 'relu'))\n",
    "    model2.add(layers.MaxPooling2D((2, 2)))\n",
    "    model2.add(layers.Conv2D(64, (3, 3), activation = 'relu'))\n",
    "    model2.add(layers.MaxPooling2D((2, 2)))\n",
    "    model2.add(layers.Conv2D(128, (3, 3), activation = 'relu'))\n",
    "    model2.add(layers.MaxPooling2D((2, 2)))\n",
    "    model2.add(layers.Flatten())\n",
    "    model2.add(layers.Dense(512, activation = 'relu'))\n",
    "    model2.add(layers.Dense(128, activation = 'relu'))\n",
    "    model2.add(layers.Dense(64, activation = 'relu'))\n",
    "    model2.add(layers.Dense(1, activation = 'sigmoid'))\n",
    "    \n",
    "    model2.compile(loss = 'binary_crossentropy', \n",
    "              optimizer = tf.keras.optimizers.RMSprop(lr = 1e-4),\n",
    "              metrics = [SensitivityAtSpecificity(0.9)])"
   ]
  },
  {
   "cell_type": "code",
   "execution_count": 35,
   "metadata": {},
   "outputs": [],
   "source": [
    "# Model 3\n",
    "\n",
    "with tf.device('/gpu:0'):\n",
    "    model3 = models.Sequential()\n",
    "    model3.add(layers.Conv2D(16, (3, 3), activation = 'relu', input_shape = (150, 150, 3)))\n",
    "    model3.add(layers.Conv2D(16, (3, 3), activation = 'relu'))\n",
    "    model3.add(layers.MaxPooling2D((2, 2)))\n",
    "    model3.add(layers.Conv2D(32, (3, 3), activation = 'relu'))\n",
    "    model3.add(layers.Conv2D(32, (3, 3), activation = 'relu'))\n",
    "    model3.add(layers.MaxPooling2D((2, 2)))\n",
    "    model3.add(layers.Conv2D(64, (3, 3), activation = 'relu'))\n",
    "    model3.add(layers.Conv2D(64, (3, 3), activation = 'relu'))\n",
    "    model3.add(layers.MaxPooling2D((2, 2)))\n",
    "    model3.add(layers.Conv2D(128, (3, 3), activation = 'relu'))\n",
    "    model3.add(layers.Conv2D(128, (3, 3), activation = 'relu'))\n",
    "    model3.add(layers.MaxPooling2D((2, 2)))\n",
    "    model3.add(layers.Conv2D(256, (3, 3), activation = 'relu'))\n",
    "    model3.add(layers.MaxPooling2D((2, 2)))\n",
    "    model3.add(layers.Flatten())\n",
    "    model3.add(layers.Dense(512, activation = 'relu'))\n",
    "    model3.add(layers.Dense(128, activation = 'relu'))\n",
    "    model3.add(layers.Dense(64, activation = 'relu'))\n",
    "    model3.add(layers.Dense(1, activation = 'sigmoid'))\n",
    "    \n",
    "    model3.compile(loss = 'binary_crossentropy', \n",
    "              optimizer = tf.keras.optimizers.RMSprop(lr = 1e-4),\n",
    "              metrics = [SensitivityAtSpecificity(0.9)])"
   ]
  },
  {
   "cell_type": "code",
   "execution_count": 28,
   "metadata": {},
   "outputs": [
    {
     "name": "stdout",
     "output_type": "stream",
     "text": [
      "asd\n",
      "Training...WARNING:tensorflow:sample_weight modes were coerced from\n",
      "  ...\n",
      "    to  \n",
      "  ['...']\n",
      "WARNING:tensorflow:sample_weight modes were coerced from\n",
      "  ...\n",
      "    to  \n",
      "  ['...']\n",
      "Train for 220 steps, validate for 74 steps\n",
      "Epoch 1/12\n",
      "220/220 - 91s - loss: 0.5187 - sensitivity_at_specificity_1: 0.3551 - val_loss: 0.3607 - val_sensitivity_at_specificity_1: 0.8129\n",
      "Epoch 2/12\n",
      "220/220 - 72s - loss: 0.3517 - sensitivity_at_specificity_1: 0.7530 - val_loss: 0.4270 - val_sensitivity_at_specificity_1: 0.9111\n",
      "Epoch 3/12\n",
      "220/220 - 72s - loss: 0.2935 - sensitivity_at_specificity_1: 0.7909 - val_loss: 0.2265 - val_sensitivity_at_specificity_1: 0.8971\n",
      "Epoch 4/12\n",
      "220/220 - 72s - loss: 0.2640 - sensitivity_at_specificity_1: 0.8330 - val_loss: 0.2095 - val_sensitivity_at_specificity_1: 0.9193\n",
      "Epoch 5/12\n",
      "220/220 - 72s - loss: 0.2366 - sensitivity_at_specificity_1: 0.8802 - val_loss: 0.3369 - val_sensitivity_at_specificity_1: 0.9450\n",
      "Epoch 6/12\n",
      "220/220 - 72s - loss: 0.2249 - sensitivity_at_specificity_1: 0.8970 - val_loss: 0.3454 - val_sensitivity_at_specificity_1: 0.9509\n",
      "Epoch 7/12\n",
      "220/220 - 72s - loss: 0.2097 - sensitivity_at_specificity_1: 0.9052 - val_loss: 0.1827 - val_sensitivity_at_specificity_1: 0.9462\n",
      "Epoch 8/12\n",
      "220/220 - 71s - loss: 0.1919 - sensitivity_at_specificity_1: 0.9220 - val_loss: 0.2512 - val_sensitivity_at_specificity_1: 0.9591\n",
      "Epoch 9/12\n",
      "220/220 - 71s - loss: 0.1882 - sensitivity_at_specificity_1: 0.9360 - val_loss: 0.1928 - val_sensitivity_at_specificity_1: 0.9602\n",
      "Epoch 10/12\n",
      "220/220 - 71s - loss: 0.1778 - sensitivity_at_specificity_1: 0.9321 - val_loss: 0.1959 - val_sensitivity_at_specificity_1: 0.9614\n",
      "Epoch 11/12\n",
      "220/220 - 72s - loss: 0.1628 - sensitivity_at_specificity_1: 0.9442 - val_loss: 0.1719 - val_sensitivity_at_specificity_1: 0.9649\n",
      "Epoch 12/12\n",
      "220/220 - 73s - loss: 0.1620 - sensitivity_at_specificity_1: 0.9504 - val_loss: 0.1488 - val_sensitivity_at_specificity_1: 0.9649\n",
      "Done\n",
      "Time elapsed = 882 seconds\n",
      "Time per epoch = 73.46 seconds\n",
      "Model saved\n"
     ]
    }
   ],
   "source": [
    "print(\"asd\")\n",
    "\n",
    "# Number of epochs\n",
    "E = 12\n",
    "\n",
    "# TRAIN MODEL 1\n",
    "\n",
    "# Start the clock\n",
    "t_start = time.time()\n",
    "                \n",
    "print('Training...', end='')\n",
    "h = model.fit_generator(\n",
    "    train_generator,\n",
    "    steps_per_epoch = None,\n",
    "    verbose = 2,\n",
    "    epochs = E,\n",
    "    validation_data = dev_generator,\n",
    "    validation_steps = None\n",
    ")\n",
    "\n",
    "# Check the time and calculate the elapsed time and time per epoch\n",
    "t_end = time.time()\n",
    "t_elapsed = t_end - t_start\n",
    "t_per_epoch = t_elapsed/E\n",
    "\n",
    "print('Done')\n",
    "print(f'Time elapsed = {t_elapsed:.0f} seconds')\n",
    "print(f'Time per epoch = {t_per_epoch:.2f} seconds')\n",
    "\n",
    "# Save the model\n",
    "model.save('case2_run_003.h5')\n",
    "print('Model saved')"
   ]
  },
  {
   "cell_type": "code",
   "execution_count": 34,
   "metadata": {},
   "outputs": [
    {
     "name": "stdout",
     "output_type": "stream",
     "text": [
      "Training...WARNING:tensorflow:sample_weight modes were coerced from\n",
      "  ...\n",
      "    to  \n",
      "  ['...']\n",
      "WARNING:tensorflow:sample_weight modes were coerced from\n",
      "  ...\n",
      "    to  \n",
      "  ['...']\n",
      "Train for 220 steps, validate for 74 steps\n",
      "Epoch 1/12\n",
      "220/220 - 71s - loss: 0.4960 - sensitivity_at_specificity_4: 0.3679 - val_loss: 0.5697 - val_sensitivity_at_specificity_4: 0.8807\n",
      "Epoch 2/12\n",
      "220/220 - 71s - loss: 0.3092 - sensitivity_at_specificity_4: 0.7733 - val_loss: 0.2212 - val_sensitivity_at_specificity_4: 0.9158\n",
      "Epoch 3/12\n",
      "220/220 - 71s - loss: 0.2456 - sensitivity_at_specificity_4: 0.8716 - val_loss: 0.1955 - val_sensitivity_at_specificity_4: 0.9357\n",
      "Epoch 4/12\n",
      "220/220 - 71s - loss: 0.2068 - sensitivity_at_specificity_4: 0.9185 - val_loss: 0.1825 - val_sensitivity_at_specificity_4: 0.9427\n",
      "Epoch 5/12\n",
      "220/220 - 71s - loss: 0.1918 - sensitivity_at_specificity_4: 0.9317 - val_loss: 0.2992 - val_sensitivity_at_specificity_4: 0.9462\n",
      "Epoch 6/12\n",
      "220/220 - 71s - loss: 0.1841 - sensitivity_at_specificity_4: 0.9360 - val_loss: 0.2215 - val_sensitivity_at_specificity_4: 0.9497\n",
      "Epoch 7/12\n",
      "220/220 - 71s - loss: 0.1735 - sensitivity_at_specificity_4: 0.9430 - val_loss: 0.1674 - val_sensitivity_at_specificity_4: 0.9509\n",
      "Epoch 8/12\n",
      "220/220 - 72s - loss: 0.1657 - sensitivity_at_specificity_4: 0.9551 - val_loss: 0.1871 - val_sensitivity_at_specificity_4: 0.9427\n",
      "Epoch 9/12\n",
      "220/220 - 71s - loss: 0.1547 - sensitivity_at_specificity_4: 0.9528 - val_loss: 0.1524 - val_sensitivity_at_specificity_4: 0.9544\n",
      "Epoch 10/12\n",
      "220/220 - 71s - loss: 0.1547 - sensitivity_at_specificity_4: 0.9598 - val_loss: 0.1562 - val_sensitivity_at_specificity_4: 0.9591\n",
      "Epoch 11/12\n",
      "220/220 - 72s - loss: 0.1441 - sensitivity_at_specificity_4: 0.9657 - val_loss: 0.1366 - val_sensitivity_at_specificity_4: 0.9649\n",
      "Epoch 12/12\n",
      "220/220 - 71s - loss: 0.1417 - sensitivity_at_specificity_4: 0.9653 - val_loss: 0.1421 - val_sensitivity_at_specificity_4: 0.9649\n",
      "Done\n",
      "Model saved\n"
     ]
    }
   ],
   "source": [
    "# TRAIN MODEL 2\n",
    "\n",
    "print('Training...', end='')\n",
    "h2 = model2.fit_generator(\n",
    "    train_generator,\n",
    "    steps_per_epoch = None,\n",
    "    verbose = 2,\n",
    "    epochs = E,\n",
    "    validation_data = dev_generator,\n",
    "    validation_steps = None\n",
    ")\n",
    "\n",
    "print('Done')\n",
    "# Save the model\n",
    "model2.save('case2_run_004.h5')\n",
    "print('Model saved')"
   ]
  },
  {
   "cell_type": "code",
   "execution_count": 36,
   "metadata": {},
   "outputs": [
    {
     "name": "stdout",
     "output_type": "stream",
     "text": [
      "Training...WARNING:tensorflow:sample_weight modes were coerced from\n",
      "  ...\n",
      "    to  \n",
      "  ['...']\n",
      "WARNING:tensorflow:sample_weight modes were coerced from\n",
      "  ...\n",
      "    to  \n",
      "  ['...']\n",
      "Train for 220 steps, validate for 74 steps\n",
      "Epoch 1/12\n",
      "220/220 - 73s - loss: 0.5505 - sensitivity_at_specificity_5: 0.2903 - val_loss: 0.4424 - val_sensitivity_at_specificity_5: 0.7708\n",
      "Epoch 2/12\n",
      "220/220 - 71s - loss: 0.4147 - sensitivity_at_specificity_5: 0.6293 - val_loss: 0.4170 - val_sensitivity_at_specificity_5: 0.8363\n",
      "Epoch 3/12\n",
      "220/220 - 71s - loss: 0.3581 - sensitivity_at_specificity_5: 0.7179 - val_loss: 0.2712 - val_sensitivity_at_specificity_5: 0.8421\n",
      "Epoch 4/12\n",
      "220/220 - 71s - loss: 0.3104 - sensitivity_at_specificity_5: 0.7963 - val_loss: 0.2509 - val_sensitivity_at_specificity_5: 0.8760\n",
      "Epoch 5/12\n",
      "220/220 - 72s - loss: 0.2823 - sensitivity_at_specificity_5: 0.8338 - val_loss: 0.2325 - val_sensitivity_at_specificity_5: 0.9099\n",
      "Epoch 6/12\n",
      "220/220 - 71s - loss: 0.2514 - sensitivity_at_specificity_5: 0.8767 - val_loss: 0.2213 - val_sensitivity_at_specificity_5: 0.9310\n",
      "Epoch 7/12\n",
      "220/220 - 71s - loss: 0.2282 - sensitivity_at_specificity_5: 0.8966 - val_loss: 0.1881 - val_sensitivity_at_specificity_5: 0.9427\n",
      "Epoch 8/12\n",
      "220/220 - 71s - loss: 0.2039 - sensitivity_at_specificity_5: 0.9239 - val_loss: 0.1955 - val_sensitivity_at_specificity_5: 0.9439\n",
      "Epoch 9/12\n",
      "220/220 - 72s - loss: 0.1976 - sensitivity_at_specificity_5: 0.9278 - val_loss: 0.3475 - val_sensitivity_at_specificity_5: 0.9415\n",
      "Epoch 10/12\n",
      "220/220 - 73s - loss: 0.1786 - sensitivity_at_specificity_5: 0.9438 - val_loss: 0.2023 - val_sensitivity_at_specificity_5: 0.9579\n",
      "Epoch 11/12\n",
      "220/220 - 72s - loss: 0.1706 - sensitivity_at_specificity_5: 0.9462 - val_loss: 0.1579 - val_sensitivity_at_specificity_5: 0.9626\n",
      "Epoch 12/12\n",
      "220/220 - 72s - loss: 0.1619 - sensitivity_at_specificity_5: 0.9512 - val_loss: 0.2377 - val_sensitivity_at_specificity_5: 0.9614\n",
      "Done\n",
      "Model saved\n"
     ]
    }
   ],
   "source": [
    "# TRAIN MODEL 3\n",
    "\n",
    "print('Training...', end='')\n",
    "h3 = model3.fit_generator(    # model.fit_generator is deprecated in new version of tf (installed for GPU support)\n",
    "    train_generator,\n",
    "    steps_per_epoch = None,\n",
    "    verbose = 2,\n",
    "    epochs = E,\n",
    "    validation_data = dev_generator,\n",
    "    validation_steps = None\n",
    ")\n",
    "\n",
    "print('Done')\n",
    "# Save the model\n",
    "model3.save('case2_run_005.h5')\n",
    "print('Model saved')"
   ]
  },
  {
   "cell_type": "code",
   "execution_count": 37,
   "metadata": {},
   "outputs": [
    {
     "data": {
      "image/png": "[encoded data removed]",
      "text/plain": [
       "<Figure size 432x288 with 1 Axes>"
      ]
     },
     "metadata": {
      "needs_background": "light"
     },
     "output_type": "display_data"
    },
    {
     "data": {
      "image/png": "[encoded data removed]",
      "text/plain": [
       "<Figure size 432x288 with 1 Axes>"
      ]
     },
     "metadata": {
      "needs_background": "light"
     },
     "output_type": "display_data"
    }
   ],
   "source": [
    "# Extract metrics\n",
    "\n",
    "sats1 = h.history['sensitivity_at_specificity_1']\n",
    "val_sats1 = h.history['val_sensitivity_at_specificity_1']\n",
    "sats2 = h2.history['sensitivity_at_specificity_4']\n",
    "val_sats2 = h2.history['val_sensitivity_at_specificity_4']\n",
    "sats3 = h3.history['sensitivity_at_specificity_5']\n",
    "val_sats3 = h3.history['val_sensitivity_at_specificity_5']\n",
    "\n",
    "loss1 = h.history['loss']\n",
    "val_loss1 = h.history['val_loss']\n",
    "loss2 = h2.history['loss']\n",
    "val_loss2 = h2.history['val_loss']\n",
    "loss3 = h3.history['loss']\n",
    "val_loss3 = h3.history['val_loss']\n",
    "\n",
    "epochs = range(len(sats1))\n",
    "\n",
    "# Plot sensitivity at specificity\n",
    "\n",
    "plt.plot(epochs, sats1, 'b-', label='m1 training sats')\n",
    "plt.plot(epochs, val_sats1, 'r-', label='m1 validation sats')\n",
    "plt.plot(epochs, sats2, 'g-', label='m2 training sats')\n",
    "plt.plot(epochs, val_sats2, 'c-', label='m2 validation sats')\n",
    "plt.plot(epochs, sats3, 'm-', label='m3 training sats')\n",
    "plt.plot(epochs, val_sats3, 'y-', label='m3 validation sats')\n",
    "\n",
    "plt.title('Training and validation sensitivity at specificity 0.9')\n",
    "plt.grid()\n",
    "plt.legend()\n",
    "\n",
    "# Plot loss\n",
    "\n",
    "plt.figure()\n",
    "plt.plot(epochs, loss1, 'b-', label='m1 training loss')\n",
    "plt.plot(epochs, val_loss1, 'r-', label='m1 validation loss')\n",
    "plt.plot(epochs, loss2, 'g-', label='m2 training loss')\n",
    "plt.plot(epochs, val_loss2, 'c-', label='m2 validation loss')\n",
    "plt.plot(epochs, loss3, 'm-', label='m3 training loss')\n",
    "plt.plot(epochs, val_loss3, 'y-', label='m3 validation loss')\n",
    "\n",
    "plt.title('Training and validation loss')\n",
    "plt.legend()\n",
    "plt.grid()\n",
    "\n",
    "plt.show()"
   ]
  },
  {
   "cell_type": "markdown",
   "metadata": {},
   "source": [
    "# Results and Discussion"
   ]
  },
  {
   "cell_type": "markdown",
   "metadata": {},
   "source": [
    "From the above graphs it can be concluded that all models perform well with model 2 having a slight advantage. It achieved the best figure for validation sensitivity of 96.49 % at specificity level of 90%. Validation loss was also smallest at 0.1421. Loss and sensitivity training values were also good.\n",
    "\n",
    "Statistics for epoch 12 of model 2 training:\n",
    "\n",
    "loss: 0.1417 - sensitivity_at_specificity_4: 0.9653 - val_loss: 0.1421 - val_sensitivity_at_specificity_4: 0.9649\n",
    "\n",
    "Below we can take a look at confusion matrices & classification reports based on predictions of validation data."
   ]
  },
  {
   "cell_type": "code",
   "execution_count": 46,
   "metadata": {},
   "outputs": [
    {
     "name": "stdout",
     "output_type": "stream",
     "text": [
      "Confusion matrix:\n",
      "[[812  29]\n",
      " [ 43 288]]\n",
      "               precision    recall  f1-score   support\n",
      "\n",
      "   Normal (0)       0.87      0.91      0.89       317\n",
      "Pneumonia (1)       0.97      0.95      0.96       855\n",
      "\n",
      "     accuracy                           0.94      1172\n",
      "    macro avg       0.92      0.93      0.92      1172\n",
      " weighted avg       0.94      0.94      0.94      1172\n",
      "\n"
     ]
    }
   ],
   "source": [
    "# Confusion Matrices & Classification Reports\n",
    "\n",
    "# Labels of validation data\n",
    "labels = dev_generator.classes\n",
    "\n",
    "\n",
    "# Model 1 predictions\n",
    "\n",
    "# Predicted results\n",
    "predicted1 = model.predict_generator(dev_generator).flatten()\n",
    "\n",
    "print('Confusion matrix:')\n",
    "cm = confusion_matrix(labels, predicted1 > 0.5)\n",
    "\n",
    "tn1, fp1, fn1, tp1 = cm.ravel()\n",
    "print(array([[tp1, fp1], [fn1, tn1]]))\n",
    "\n",
    "cr = classification_report(labels, predicted1 > 0.5, target_names = ['Normal (0)', 'Pneumonia (1)'])\n",
    "print(cr)"
   ]
  },
  {
   "cell_type": "code",
   "execution_count": 47,
   "metadata": {},
   "outputs": [
    {
     "name": "stdout",
     "output_type": "stream",
     "text": [
      "Confusion matrix:\n",
      "[[812  20]\n",
      " [ 43 297]]\n",
      "               precision    recall  f1-score   support\n",
      "\n",
      "   Normal (0)       0.87      0.94      0.90       317\n",
      "Pneumonia (1)       0.98      0.95      0.96       855\n",
      "\n",
      "     accuracy                           0.95      1172\n",
      "    macro avg       0.92      0.94      0.93      1172\n",
      " weighted avg       0.95      0.95      0.95      1172\n",
      "\n"
     ]
    }
   ],
   "source": [
    "# Model 2 predictions\n",
    "\n",
    "# Predicted results\n",
    "predicted2 = model2.predict_generator(dev_generator).flatten()\n",
    "\n",
    "print('Confusion matrix:')\n",
    "cm2 = confusion_matrix(labels, predicted2 > 0.5)\n",
    "\n",
    "tn2, fp2, fn2, tp2 = cm2.ravel()\n",
    "print(array([[tp2, fp2], [fn2, tn2]]))\n",
    "\n",
    "cr2 = classification_report(labels, predicted2 > 0.5, target_names = ['Normal (0)', 'Pneumonia (1)'])\n",
    "print(cr2)"
   ]
  },
  {
   "cell_type": "code",
   "execution_count": 40,
   "metadata": {},
   "outputs": [
    {
     "name": "stdout",
     "output_type": "stream",
     "text": [
      "Confusion matrix:\n",
      "[[769  86]\n",
      " [ 13 304]]\n",
      "               precision    recall  f1-score   support\n",
      "\n",
      "   Normal (0)       0.78      0.96      0.86       317\n",
      "Pneumonia (1)       0.98      0.90      0.94       855\n",
      "\n",
      "     accuracy                           0.92      1172\n",
      "    macro avg       0.88      0.93      0.90      1172\n",
      " weighted avg       0.93      0.92      0.92      1172\n",
      "\n"
     ]
    }
   ],
   "source": [
    "# Model 3 predictions\n",
    "\n",
    "# Predicted results\n",
    "predicted3 = model3.predict_generator(dev_generator).flatten()\n",
    "\n",
    "print('Confusion matrix:')\n",
    "cm3 = confusion_matrix(labels, predicted3 > 0.5)\n",
    "\n",
    "tn3, fp3, fn3, tp3 = cm3.ravel()\n",
    "print(array([[tp3, fp3], [fn3, tn3]]))\n",
    "\n",
    "cr3 = classification_report(labels, predicted3 > 0.5, target_names = ['Normal (0)', 'Pneumonia (1)'])\n",
    "print(cr3)"
   ]
  },
  {
   "cell_type": "markdown",
   "metadata": {},
   "source": [
    "Model 2 achieved a validation accuracy of 95 %, sensitivity of 95 % and specificity of almost 94 %. Model 1 performance was also very close to this."
   ]
  },
  {
   "cell_type": "code",
   "execution_count": 45,
   "metadata": {},
   "outputs": [
    {
     "name": "stdout",
     "output_type": "stream",
     "text": [
      "Confusion matrix:\n",
      "[[773  14]\n",
      " [ 82 303]]\n",
      "               precision    recall  f1-score   support\n",
      "\n",
      "   Normal (0)       0.79      0.96      0.86       317\n",
      "Pneumonia (1)       0.98      0.90      0.94       855\n",
      "\n",
      "     accuracy                           0.92      1172\n",
      "    macro avg       0.88      0.93      0.90      1172\n",
      " weighted avg       0.93      0.92      0.92      1172\n",
      "\n"
     ]
    }
   ],
   "source": [
    "# Final evaluation and testing of the chosen model (model 2)\n",
    "\n",
    "# Labels of test data\n",
    "labels_test = test_generator.classes\n",
    "# Predicted results on test images\n",
    "predicted_b = model3.predict_generator(test_generator).flatten()\n",
    "\n",
    "print('Confusion matrix:')\n",
    "cm5 = confusion_matrix(labels_test, predicted_b > 0.5)\n",
    "\n",
    "tn5, fp5, fn5, tp5 = cm5.ravel()\n",
    "print(array([[tp5, fp5], [fn5, tn5]]))\n",
    "\n",
    "cr5 = classification_report(labels_test, predicted_b > 0.5, target_names = ['Normal (0)', 'Pneumonia (1)'])\n",
    "print(cr5)"
   ]
  },
  {
   "cell_type": "markdown",
   "metadata": {},
   "source": [
    "# Conclusions"
   ]
  },
  {
   "cell_type": "markdown",
   "metadata": {},
   "source": [
    "It was possible to build a convolutional neural network that successfully predicts the presence or absence of pneumonia using x-ray images as a dataset. \n",
    "\n",
    "Even relatively simple network architectures achieved surprisingly good results. The best performing model was able to achieve an accuracy of 91.8 % when tested on previously unseen images, even though the overall number of images in the dataset was quite small. Sensitivity was 90.4 % and specificity was 95.6 %."
   ]
  }
 ],
 "metadata": {
  "kernelspec": {
   "display_name": "Python 3",
   "language": "python",
   "name": "python3"
  },
  "language_info": {
   "codemirror_mode": {
    "name": "ipython",
    "version": 3
   },
   "file_extension": ".py",
   "mimetype": "text/x-python",
   "name": "python",
   "nbconvert_exporter": "python",
   "pygments_lexer": "ipython3",
   "version": "3.7.4"
  },
  "toc": {
   "base_numbering": 1,
   "nav_menu": {},
   "number_sections": true,
   "sideBar": true,
   "skip_h1_title": false,
   "title_cell": "Table of Contents",
   "title_sidebar": "Contents",
   "toc_cell": true,
   "toc_position": {},
   "toc_section_display": true,
   "toc_window_display": false
  }
 },
 "nbformat": 4,
 "nbformat_minor": 2
}
